{
 "cells": [
  {
   "cell_type": "code",
   "execution_count": 1,
   "id": "a5ddd66c",
   "metadata": {},
   "outputs": [
    {
     "data": {
      "application/javascript": [
       "MathJax.Hub.Config({\n",
       "    TeX: { equationNumbers: { autoNumber: \"AMS\" } }\n",
       "});\n"
      ],
      "text/plain": [
       "<IPython.core.display.Javascript object>"
      ]
     },
     "metadata": {},
     "output_type": "display_data"
    }
   ],
   "source": [
    "%%javascript\n",
    "MathJax.Hub.Config({\n",
    "    TeX: { equationNumbers: { autoNumber: \"AMS\" } }\n",
    "});"
   ]
  },
  {
   "cell_type": "markdown",
   "id": "c746934d",
   "metadata": {},
   "source": [
    "Import all the necessary library in the cell below"
   ]
  },
  {
   "cell_type": "code",
   "execution_count": 2,
   "id": "1811c293",
   "metadata": {},
   "outputs": [],
   "source": [
    "\n",
    "import numpy as np\n",
    "import pandas as pd\n",
    "import matplotlib.pyplot as plt\n",
    "import seaborn as sns\n",
    "import numpy as np\n",
    "from scipy.optimize import fsolve\n",
    "from scipy.integrate import quad\n",
    "from scipy.integrate import odeint \n",
    "\n",
    "\n"
   ]
  },
  {
   "cell_type": "markdown",
   "id": "f8915504",
   "metadata": {},
   "source": [
    "**Problem 1**\n",
    "\n",
    "1- Load the titanic dataset from the seaborn package."
   ]
  },
  {
   "cell_type": "code",
   "execution_count": 3,
   "id": "27fe6013",
   "metadata": {},
   "outputs": [
    {
     "data": {
      "text/html": [
       "<div>\n",
       "<style scoped>\n",
       "    .dataframe tbody tr th:only-of-type {\n",
       "        vertical-align: middle;\n",
       "    }\n",
       "\n",
       "    .dataframe tbody tr th {\n",
       "        vertical-align: top;\n",
       "    }\n",
       "\n",
       "    .dataframe thead th {\n",
       "        text-align: right;\n",
       "    }\n",
       "</style>\n",
       "<table border=\"1\" class=\"dataframe\">\n",
       "  <thead>\n",
       "    <tr style=\"text-align: right;\">\n",
       "      <th></th>\n",
       "      <th>survived</th>\n",
       "      <th>pclass</th>\n",
       "      <th>sex</th>\n",
       "      <th>age</th>\n",
       "      <th>sibsp</th>\n",
       "      <th>parch</th>\n",
       "      <th>fare</th>\n",
       "      <th>embarked</th>\n",
       "      <th>class</th>\n",
       "      <th>who</th>\n",
       "      <th>adult_male</th>\n",
       "      <th>deck</th>\n",
       "      <th>embark_town</th>\n",
       "      <th>alive</th>\n",
       "      <th>alone</th>\n",
       "    </tr>\n",
       "  </thead>\n",
       "  <tbody>\n",
       "    <tr>\n",
       "      <th>0</th>\n",
       "      <td>0</td>\n",
       "      <td>3</td>\n",
       "      <td>male</td>\n",
       "      <td>22.0</td>\n",
       "      <td>1</td>\n",
       "      <td>0</td>\n",
       "      <td>7.2500</td>\n",
       "      <td>S</td>\n",
       "      <td>Third</td>\n",
       "      <td>man</td>\n",
       "      <td>True</td>\n",
       "      <td>NaN</td>\n",
       "      <td>Southampton</td>\n",
       "      <td>no</td>\n",
       "      <td>False</td>\n",
       "    </tr>\n",
       "    <tr>\n",
       "      <th>1</th>\n",
       "      <td>1</td>\n",
       "      <td>1</td>\n",
       "      <td>female</td>\n",
       "      <td>38.0</td>\n",
       "      <td>1</td>\n",
       "      <td>0</td>\n",
       "      <td>71.2833</td>\n",
       "      <td>C</td>\n",
       "      <td>First</td>\n",
       "      <td>woman</td>\n",
       "      <td>False</td>\n",
       "      <td>C</td>\n",
       "      <td>Cherbourg</td>\n",
       "      <td>yes</td>\n",
       "      <td>False</td>\n",
       "    </tr>\n",
       "    <tr>\n",
       "      <th>2</th>\n",
       "      <td>1</td>\n",
       "      <td>3</td>\n",
       "      <td>female</td>\n",
       "      <td>26.0</td>\n",
       "      <td>0</td>\n",
       "      <td>0</td>\n",
       "      <td>7.9250</td>\n",
       "      <td>S</td>\n",
       "      <td>Third</td>\n",
       "      <td>woman</td>\n",
       "      <td>False</td>\n",
       "      <td>NaN</td>\n",
       "      <td>Southampton</td>\n",
       "      <td>yes</td>\n",
       "      <td>True</td>\n",
       "    </tr>\n",
       "    <tr>\n",
       "      <th>3</th>\n",
       "      <td>1</td>\n",
       "      <td>1</td>\n",
       "      <td>female</td>\n",
       "      <td>35.0</td>\n",
       "      <td>1</td>\n",
       "      <td>0</td>\n",
       "      <td>53.1000</td>\n",
       "      <td>S</td>\n",
       "      <td>First</td>\n",
       "      <td>woman</td>\n",
       "      <td>False</td>\n",
       "      <td>C</td>\n",
       "      <td>Southampton</td>\n",
       "      <td>yes</td>\n",
       "      <td>False</td>\n",
       "    </tr>\n",
       "    <tr>\n",
       "      <th>4</th>\n",
       "      <td>0</td>\n",
       "      <td>3</td>\n",
       "      <td>male</td>\n",
       "      <td>35.0</td>\n",
       "      <td>0</td>\n",
       "      <td>0</td>\n",
       "      <td>8.0500</td>\n",
       "      <td>S</td>\n",
       "      <td>Third</td>\n",
       "      <td>man</td>\n",
       "      <td>True</td>\n",
       "      <td>NaN</td>\n",
       "      <td>Southampton</td>\n",
       "      <td>no</td>\n",
       "      <td>True</td>\n",
       "    </tr>\n",
       "    <tr>\n",
       "      <th>...</th>\n",
       "      <td>...</td>\n",
       "      <td>...</td>\n",
       "      <td>...</td>\n",
       "      <td>...</td>\n",
       "      <td>...</td>\n",
       "      <td>...</td>\n",
       "      <td>...</td>\n",
       "      <td>...</td>\n",
       "      <td>...</td>\n",
       "      <td>...</td>\n",
       "      <td>...</td>\n",
       "      <td>...</td>\n",
       "      <td>...</td>\n",
       "      <td>...</td>\n",
       "      <td>...</td>\n",
       "    </tr>\n",
       "    <tr>\n",
       "      <th>886</th>\n",
       "      <td>0</td>\n",
       "      <td>2</td>\n",
       "      <td>male</td>\n",
       "      <td>27.0</td>\n",
       "      <td>0</td>\n",
       "      <td>0</td>\n",
       "      <td>13.0000</td>\n",
       "      <td>S</td>\n",
       "      <td>Second</td>\n",
       "      <td>man</td>\n",
       "      <td>True</td>\n",
       "      <td>NaN</td>\n",
       "      <td>Southampton</td>\n",
       "      <td>no</td>\n",
       "      <td>True</td>\n",
       "    </tr>\n",
       "    <tr>\n",
       "      <th>887</th>\n",
       "      <td>1</td>\n",
       "      <td>1</td>\n",
       "      <td>female</td>\n",
       "      <td>19.0</td>\n",
       "      <td>0</td>\n",
       "      <td>0</td>\n",
       "      <td>30.0000</td>\n",
       "      <td>S</td>\n",
       "      <td>First</td>\n",
       "      <td>woman</td>\n",
       "      <td>False</td>\n",
       "      <td>B</td>\n",
       "      <td>Southampton</td>\n",
       "      <td>yes</td>\n",
       "      <td>True</td>\n",
       "    </tr>\n",
       "    <tr>\n",
       "      <th>888</th>\n",
       "      <td>0</td>\n",
       "      <td>3</td>\n",
       "      <td>female</td>\n",
       "      <td>NaN</td>\n",
       "      <td>1</td>\n",
       "      <td>2</td>\n",
       "      <td>23.4500</td>\n",
       "      <td>S</td>\n",
       "      <td>Third</td>\n",
       "      <td>woman</td>\n",
       "      <td>False</td>\n",
       "      <td>NaN</td>\n",
       "      <td>Southampton</td>\n",
       "      <td>no</td>\n",
       "      <td>False</td>\n",
       "    </tr>\n",
       "    <tr>\n",
       "      <th>889</th>\n",
       "      <td>1</td>\n",
       "      <td>1</td>\n",
       "      <td>male</td>\n",
       "      <td>26.0</td>\n",
       "      <td>0</td>\n",
       "      <td>0</td>\n",
       "      <td>30.0000</td>\n",
       "      <td>C</td>\n",
       "      <td>First</td>\n",
       "      <td>man</td>\n",
       "      <td>True</td>\n",
       "      <td>C</td>\n",
       "      <td>Cherbourg</td>\n",
       "      <td>yes</td>\n",
       "      <td>True</td>\n",
       "    </tr>\n",
       "    <tr>\n",
       "      <th>890</th>\n",
       "      <td>0</td>\n",
       "      <td>3</td>\n",
       "      <td>male</td>\n",
       "      <td>32.0</td>\n",
       "      <td>0</td>\n",
       "      <td>0</td>\n",
       "      <td>7.7500</td>\n",
       "      <td>Q</td>\n",
       "      <td>Third</td>\n",
       "      <td>man</td>\n",
       "      <td>True</td>\n",
       "      <td>NaN</td>\n",
       "      <td>Queenstown</td>\n",
       "      <td>no</td>\n",
       "      <td>True</td>\n",
       "    </tr>\n",
       "  </tbody>\n",
       "</table>\n",
       "<p>891 rows × 15 columns</p>\n",
       "</div>"
      ],
      "text/plain": [
       "     survived  pclass     sex   age  sibsp  parch     fare embarked   class  \\\n",
       "0           0       3    male  22.0      1      0   7.2500        S   Third   \n",
       "1           1       1  female  38.0      1      0  71.2833        C   First   \n",
       "2           1       3  female  26.0      0      0   7.9250        S   Third   \n",
       "3           1       1  female  35.0      1      0  53.1000        S   First   \n",
       "4           0       3    male  35.0      0      0   8.0500        S   Third   \n",
       "..        ...     ...     ...   ...    ...    ...      ...      ...     ...   \n",
       "886         0       2    male  27.0      0      0  13.0000        S  Second   \n",
       "887         1       1  female  19.0      0      0  30.0000        S   First   \n",
       "888         0       3  female   NaN      1      2  23.4500        S   Third   \n",
       "889         1       1    male  26.0      0      0  30.0000        C   First   \n",
       "890         0       3    male  32.0      0      0   7.7500        Q   Third   \n",
       "\n",
       "       who  adult_male deck  embark_town alive  alone  \n",
       "0      man        True  NaN  Southampton    no  False  \n",
       "1    woman       False    C    Cherbourg   yes  False  \n",
       "2    woman       False  NaN  Southampton   yes   True  \n",
       "3    woman       False    C  Southampton   yes  False  \n",
       "4      man        True  NaN  Southampton    no   True  \n",
       "..     ...         ...  ...          ...   ...    ...  \n",
       "886    man        True  NaN  Southampton    no   True  \n",
       "887  woman       False    B  Southampton   yes   True  \n",
       "888  woman       False  NaN  Southampton    no  False  \n",
       "889    man        True    C    Cherbourg   yes   True  \n",
       "890    man        True  NaN   Queenstown    no   True  \n",
       "\n",
       "[891 rows x 15 columns]"
      ]
     },
     "execution_count": 3,
     "metadata": {},
     "output_type": "execute_result"
    }
   ],
   "source": [
    "data1=sns.load_dataset('titanic')\n",
    "data1"
   ]
  },
  {
   "cell_type": "markdown",
   "id": "447328fa",
   "metadata": {},
   "source": [
    "2- how many columns in this dataset?"
   ]
  },
  {
   "cell_type": "code",
   "execution_count": 4,
   "id": "2a1d8f07",
   "metadata": {},
   "outputs": [
    {
     "data": {
      "text/plain": [
       "15"
      ]
     },
     "execution_count": 4,
     "metadata": {},
     "output_type": "execute_result"
    }
   ],
   "source": [
    "data1.columns.size"
   ]
  },
  {
   "cell_type": "markdown",
   "id": "b55917b4",
   "metadata": {},
   "source": [
    "3- list the names of all columns and describe the datatype of each column? "
   ]
  },
  {
   "cell_type": "code",
   "execution_count": 5,
   "id": "f78025c1",
   "metadata": {},
   "outputs": [
    {
     "data": {
      "text/plain": [
       "Index(['survived', 'pclass', 'sex', 'age', 'sibsp', 'parch', 'fare',\n",
       "       'embarked', 'class', 'who', 'adult_male', 'deck', 'embark_town',\n",
       "       'alive', 'alone'],\n",
       "      dtype='object')"
      ]
     },
     "execution_count": 5,
     "metadata": {},
     "output_type": "execute_result"
    }
   ],
   "source": [
    "data1.columns"
   ]
  },
  {
   "cell_type": "markdown",
   "id": "6fa74819",
   "metadata": {},
   "source": [
    "4- Count the number of missing values in each column"
   ]
  },
  {
   "cell_type": "code",
   "execution_count": 6,
   "id": "b7b20810",
   "metadata": {},
   "outputs": [
    {
     "data": {
      "text/plain": [
       "survived         0\n",
       "pclass           0\n",
       "sex              0\n",
       "age            177\n",
       "sibsp            0\n",
       "parch            0\n",
       "fare             0\n",
       "embarked         2\n",
       "class            0\n",
       "who              0\n",
       "adult_male       0\n",
       "deck           688\n",
       "embark_town      2\n",
       "alive            0\n",
       "alone            0\n",
       "dtype: int64"
      ]
     },
     "execution_count": 6,
     "metadata": {},
     "output_type": "execute_result"
    }
   ],
   "source": [
    "data1.isna().sum()\n"
   ]
  },
  {
   "cell_type": "markdown",
   "id": "5b87c877",
   "metadata": {},
   "source": [
    "5- Clean the dataset by removing every record that contains a missing value? "
   ]
  },
  {
   "cell_type": "code",
   "execution_count": 7,
   "id": "def3d590",
   "metadata": {},
   "outputs": [
    {
     "data": {
      "text/html": [
       "<div>\n",
       "<style scoped>\n",
       "    .dataframe tbody tr th:only-of-type {\n",
       "        vertical-align: middle;\n",
       "    }\n",
       "\n",
       "    .dataframe tbody tr th {\n",
       "        vertical-align: top;\n",
       "    }\n",
       "\n",
       "    .dataframe thead th {\n",
       "        text-align: right;\n",
       "    }\n",
       "</style>\n",
       "<table border=\"1\" class=\"dataframe\">\n",
       "  <thead>\n",
       "    <tr style=\"text-align: right;\">\n",
       "      <th></th>\n",
       "      <th>survived</th>\n",
       "      <th>pclass</th>\n",
       "      <th>sex</th>\n",
       "      <th>age</th>\n",
       "      <th>sibsp</th>\n",
       "      <th>parch</th>\n",
       "      <th>fare</th>\n",
       "      <th>embarked</th>\n",
       "      <th>class</th>\n",
       "      <th>who</th>\n",
       "      <th>adult_male</th>\n",
       "      <th>deck</th>\n",
       "      <th>embark_town</th>\n",
       "      <th>alive</th>\n",
       "      <th>alone</th>\n",
       "    </tr>\n",
       "  </thead>\n",
       "  <tbody>\n",
       "    <tr>\n",
       "      <th>1</th>\n",
       "      <td>1</td>\n",
       "      <td>1</td>\n",
       "      <td>female</td>\n",
       "      <td>38.0</td>\n",
       "      <td>1</td>\n",
       "      <td>0</td>\n",
       "      <td>71.2833</td>\n",
       "      <td>C</td>\n",
       "      <td>First</td>\n",
       "      <td>woman</td>\n",
       "      <td>False</td>\n",
       "      <td>C</td>\n",
       "      <td>Cherbourg</td>\n",
       "      <td>yes</td>\n",
       "      <td>False</td>\n",
       "    </tr>\n",
       "    <tr>\n",
       "      <th>3</th>\n",
       "      <td>1</td>\n",
       "      <td>1</td>\n",
       "      <td>female</td>\n",
       "      <td>35.0</td>\n",
       "      <td>1</td>\n",
       "      <td>0</td>\n",
       "      <td>53.1000</td>\n",
       "      <td>S</td>\n",
       "      <td>First</td>\n",
       "      <td>woman</td>\n",
       "      <td>False</td>\n",
       "      <td>C</td>\n",
       "      <td>Southampton</td>\n",
       "      <td>yes</td>\n",
       "      <td>False</td>\n",
       "    </tr>\n",
       "    <tr>\n",
       "      <th>6</th>\n",
       "      <td>0</td>\n",
       "      <td>1</td>\n",
       "      <td>male</td>\n",
       "      <td>54.0</td>\n",
       "      <td>0</td>\n",
       "      <td>0</td>\n",
       "      <td>51.8625</td>\n",
       "      <td>S</td>\n",
       "      <td>First</td>\n",
       "      <td>man</td>\n",
       "      <td>True</td>\n",
       "      <td>E</td>\n",
       "      <td>Southampton</td>\n",
       "      <td>no</td>\n",
       "      <td>True</td>\n",
       "    </tr>\n",
       "    <tr>\n",
       "      <th>10</th>\n",
       "      <td>1</td>\n",
       "      <td>3</td>\n",
       "      <td>female</td>\n",
       "      <td>4.0</td>\n",
       "      <td>1</td>\n",
       "      <td>1</td>\n",
       "      <td>16.7000</td>\n",
       "      <td>S</td>\n",
       "      <td>Third</td>\n",
       "      <td>child</td>\n",
       "      <td>False</td>\n",
       "      <td>G</td>\n",
       "      <td>Southampton</td>\n",
       "      <td>yes</td>\n",
       "      <td>False</td>\n",
       "    </tr>\n",
       "    <tr>\n",
       "      <th>11</th>\n",
       "      <td>1</td>\n",
       "      <td>1</td>\n",
       "      <td>female</td>\n",
       "      <td>58.0</td>\n",
       "      <td>0</td>\n",
       "      <td>0</td>\n",
       "      <td>26.5500</td>\n",
       "      <td>S</td>\n",
       "      <td>First</td>\n",
       "      <td>woman</td>\n",
       "      <td>False</td>\n",
       "      <td>C</td>\n",
       "      <td>Southampton</td>\n",
       "      <td>yes</td>\n",
       "      <td>True</td>\n",
       "    </tr>\n",
       "    <tr>\n",
       "      <th>...</th>\n",
       "      <td>...</td>\n",
       "      <td>...</td>\n",
       "      <td>...</td>\n",
       "      <td>...</td>\n",
       "      <td>...</td>\n",
       "      <td>...</td>\n",
       "      <td>...</td>\n",
       "      <td>...</td>\n",
       "      <td>...</td>\n",
       "      <td>...</td>\n",
       "      <td>...</td>\n",
       "      <td>...</td>\n",
       "      <td>...</td>\n",
       "      <td>...</td>\n",
       "      <td>...</td>\n",
       "    </tr>\n",
       "    <tr>\n",
       "      <th>871</th>\n",
       "      <td>1</td>\n",
       "      <td>1</td>\n",
       "      <td>female</td>\n",
       "      <td>47.0</td>\n",
       "      <td>1</td>\n",
       "      <td>1</td>\n",
       "      <td>52.5542</td>\n",
       "      <td>S</td>\n",
       "      <td>First</td>\n",
       "      <td>woman</td>\n",
       "      <td>False</td>\n",
       "      <td>D</td>\n",
       "      <td>Southampton</td>\n",
       "      <td>yes</td>\n",
       "      <td>False</td>\n",
       "    </tr>\n",
       "    <tr>\n",
       "      <th>872</th>\n",
       "      <td>0</td>\n",
       "      <td>1</td>\n",
       "      <td>male</td>\n",
       "      <td>33.0</td>\n",
       "      <td>0</td>\n",
       "      <td>0</td>\n",
       "      <td>5.0000</td>\n",
       "      <td>S</td>\n",
       "      <td>First</td>\n",
       "      <td>man</td>\n",
       "      <td>True</td>\n",
       "      <td>B</td>\n",
       "      <td>Southampton</td>\n",
       "      <td>no</td>\n",
       "      <td>True</td>\n",
       "    </tr>\n",
       "    <tr>\n",
       "      <th>879</th>\n",
       "      <td>1</td>\n",
       "      <td>1</td>\n",
       "      <td>female</td>\n",
       "      <td>56.0</td>\n",
       "      <td>0</td>\n",
       "      <td>1</td>\n",
       "      <td>83.1583</td>\n",
       "      <td>C</td>\n",
       "      <td>First</td>\n",
       "      <td>woman</td>\n",
       "      <td>False</td>\n",
       "      <td>C</td>\n",
       "      <td>Cherbourg</td>\n",
       "      <td>yes</td>\n",
       "      <td>False</td>\n",
       "    </tr>\n",
       "    <tr>\n",
       "      <th>887</th>\n",
       "      <td>1</td>\n",
       "      <td>1</td>\n",
       "      <td>female</td>\n",
       "      <td>19.0</td>\n",
       "      <td>0</td>\n",
       "      <td>0</td>\n",
       "      <td>30.0000</td>\n",
       "      <td>S</td>\n",
       "      <td>First</td>\n",
       "      <td>woman</td>\n",
       "      <td>False</td>\n",
       "      <td>B</td>\n",
       "      <td>Southampton</td>\n",
       "      <td>yes</td>\n",
       "      <td>True</td>\n",
       "    </tr>\n",
       "    <tr>\n",
       "      <th>889</th>\n",
       "      <td>1</td>\n",
       "      <td>1</td>\n",
       "      <td>male</td>\n",
       "      <td>26.0</td>\n",
       "      <td>0</td>\n",
       "      <td>0</td>\n",
       "      <td>30.0000</td>\n",
       "      <td>C</td>\n",
       "      <td>First</td>\n",
       "      <td>man</td>\n",
       "      <td>True</td>\n",
       "      <td>C</td>\n",
       "      <td>Cherbourg</td>\n",
       "      <td>yes</td>\n",
       "      <td>True</td>\n",
       "    </tr>\n",
       "  </tbody>\n",
       "</table>\n",
       "<p>182 rows × 15 columns</p>\n",
       "</div>"
      ],
      "text/plain": [
       "     survived  pclass     sex   age  sibsp  parch     fare embarked  class  \\\n",
       "1           1       1  female  38.0      1      0  71.2833        C  First   \n",
       "3           1       1  female  35.0      1      0  53.1000        S  First   \n",
       "6           0       1    male  54.0      0      0  51.8625        S  First   \n",
       "10          1       3  female   4.0      1      1  16.7000        S  Third   \n",
       "11          1       1  female  58.0      0      0  26.5500        S  First   \n",
       "..        ...     ...     ...   ...    ...    ...      ...      ...    ...   \n",
       "871         1       1  female  47.0      1      1  52.5542        S  First   \n",
       "872         0       1    male  33.0      0      0   5.0000        S  First   \n",
       "879         1       1  female  56.0      0      1  83.1583        C  First   \n",
       "887         1       1  female  19.0      0      0  30.0000        S  First   \n",
       "889         1       1    male  26.0      0      0  30.0000        C  First   \n",
       "\n",
       "       who  adult_male deck  embark_town alive  alone  \n",
       "1    woman       False    C    Cherbourg   yes  False  \n",
       "3    woman       False    C  Southampton   yes  False  \n",
       "6      man        True    E  Southampton    no   True  \n",
       "10   child       False    G  Southampton   yes  False  \n",
       "11   woman       False    C  Southampton   yes   True  \n",
       "..     ...         ...  ...          ...   ...    ...  \n",
       "871  woman       False    D  Southampton   yes  False  \n",
       "872    man        True    B  Southampton    no   True  \n",
       "879  woman       False    C    Cherbourg   yes  False  \n",
       "887  woman       False    B  Southampton   yes   True  \n",
       "889    man        True    C    Cherbourg   yes   True  \n",
       "\n",
       "[182 rows x 15 columns]"
      ]
     },
     "execution_count": 7,
     "metadata": {},
     "output_type": "execute_result"
    }
   ],
   "source": [
    "data1.dropna(inplace=True)\n",
    "data1"
   ]
  },
  {
   "cell_type": "markdown",
   "id": "890db3ea",
   "metadata": {},
   "source": [
    "6 - Compute the average age of females and males who survived? "
   ]
  },
  {
   "cell_type": "code",
   "execution_count": null,
   "id": "1b94fd9b",
   "metadata": {},
   "outputs": [],
   "source": []
  },
  {
   "cell_type": "markdown",
   "id": "d655ac41",
   "metadata": {},
   "source": [
    "6 - Count how many people survived by age and sex. Display the result as DataFrame. "
   ]
  },
  {
   "cell_type": "code",
   "execution_count": 9,
   "id": "c3ced5b9",
   "metadata": {},
   "outputs": [
    {
     "ename": "NameError",
     "evalue": "name 'titanic' is not defined",
     "output_type": "error",
     "traceback": [
      "\u001b[0;31m---------------------------------------------------------------------------\u001b[0m",
      "\u001b[0;31mNameError\u001b[0m                                 Traceback (most recent call last)",
      "\u001b[0;32m/tmp/ipykernel_6105/981436777.py\u001b[0m in \u001b[0;36m<module>\u001b[0;34m\u001b[0m\n\u001b[0;32m----> 1\u001b[0;31m \u001b[0mdata1\u001b[0m\u001b[0;34m=\u001b[0m\u001b[0mtitanic\u001b[0m\u001b[0;34m.\u001b[0m\u001b[0mgroupby\u001b[0m\u001b[0;34m(\u001b[0m\u001b[0mby\u001b[0m\u001b[0;34m=\u001b[0m\u001b[0;34m[\u001b[0m\u001b[0;34m'survived'\u001b[0m\u001b[0;34m,\u001b[0m\u001b[0;34m'age'\u001b[0m\u001b[0;34m,\u001b[0m\u001b[0;34m'sex'\u001b[0m\u001b[0;34m]\u001b[0m\u001b[0;34m)\u001b[0m\u001b[0;34m.\u001b[0m\u001b[0mcount\u001b[0m\u001b[0;34m(\u001b[0m\u001b[0;34m)\u001b[0m\u001b[0;34m\u001b[0m\u001b[0;34m\u001b[0m\u001b[0m\n\u001b[0m",
      "\u001b[0;31mNameError\u001b[0m: name 'titanic' is not defined"
     ]
    }
   ],
   "source": [
    "data1=titanic.groupby(by=['survived','age','sex']).count()"
   ]
  },
  {
   "cell_type": "markdown",
   "id": "c2b3bb3e",
   "metadata": {},
   "source": [
    "7- Build a logistic regression model using the pclass, age, parch, sex, and fare columns as explanatory variables and the survived column as response variable"
   ]
  },
  {
   "cell_type": "code",
   "execution_count": null,
   "id": "3efaaee3",
   "metadata": {},
   "outputs": [],
   "source": []
  },
  {
   "cell_type": "markdown",
   "id": "a24e015f",
   "metadata": {},
   "source": [
    "8- Measure its performance using accuracy score and display the confusion matrix. "
   ]
  },
  {
   "cell_type": "code",
   "execution_count": null,
   "id": "fe043e7d",
   "metadata": {},
   "outputs": [],
   "source": []
  },
  {
   "cell_type": "markdown",
   "id": "c9cc0418",
   "metadata": {},
   "source": [
    "9- Interpret the result"
   ]
  },
  {
   "cell_type": "code",
   "execution_count": null,
   "id": "df13002e",
   "metadata": {},
   "outputs": [],
   "source": []
  },
  {
   "cell_type": "markdown",
   "id": "46e969f3",
   "metadata": {},
   "source": [
    "**Problem 2**\n",
    "\n",
    "Let assume we have the one dimensional process model\n",
    "\\begin{equation}\n",
    "x_i = \\alpha x_{i-1}+\\delta_i, \\text{ with }\\delta_i\\thicksim \\mathcal{N}(0,q^2),\\;\\; i = 1,\\cdots,N ,\n",
    "\\end{equation}\n",
    "and $x_0\\thicksim \\mathcal{N}(\\mu,r^2)$. Assume the data model is \n",
    "\n",
    "\\begin{equation}\n",
    "y_i = h_i x_{i}+\\epsilon_i, \\text{ with }\\epsilon_i\\thicksim \\mathcal{N}(0,s^2),\\;\\; i = 1,\\cdots,N ,\n",
    "\\end{equation}\n",
    "where\n",
    "$$\n",
    "h_i =\\begin{cases}\n",
    " 1, \\;\\;& i=&1,\\cdots,N_1\\\\\n",
    "0.1, & i=&N_1+1,\\cdots, N_2\\\\\n",
    "0.9, & i=&N_2+1,\\cdots,N\n",
    "\\end{cases}.\n",
    "$$\n",
    "Note that $N_1<N_2<N$.\n",
    "\n",
    "1- Write Python function called **Process** that takes $\\alpha, N, q, \\mu, r$ and return the array $x$ of the $x_i, i=0,\\cdots,N$."
   ]
  },
  {
   "cell_type": "code",
   "execution_count": 10,
   "id": "5e9de586",
   "metadata": {},
   "outputs": [],
   "source": [
    "def Process(alp, N, q,r,mu):\n",
    "    x = np.empty(N+1)\n",
    "    x[0] = np.random.normal(0,1)\n",
    "    for i in range(1,N+1):\n",
    "        x[i] = alp*x[i-1]  + np.random.normal(0,q)\n",
    "    return x "
   ]
  },
  {
   "cell_type": "markdown",
   "id": "926edbdd",
   "metadata": {},
   "source": [
    "2- Write Python function called **Data** that takes array $x$ of the $x_i$, $s, N_1, N_2, N$ and return the array $y$ of $y_i,i=1,\\cdots,N$"
   ]
  },
  {
   "cell_type": "code",
   "execution_count": 25,
   "id": "44f0b4ca",
   "metadata": {},
   "outputs": [],
   "source": [
    "def Data(x,s,N1,N2,N):\n",
    "    N=len(x)-1\n",
    "    #for i in range(1,0.1,0.9):\n",
    "    y = h* x[1:] + np.random.normal(0, s,N) \n",
    "    return y"
   ]
  },
  {
   "cell_type": "markdown",
   "id": "08114e2e",
   "metadata": {},
   "source": [
    "3- Write a program to plot the data on the same graph as the process model, for \\begin{equation}\n",
    "r = 0.1, q=0.4, s=0.9, \\mu = 0.01, h= 1, \\alpha = 0.8,N = 50,  N_1 = 20,  N_2 = 30\n",
    "\\end{equation}"
   ]
  },
  {
   "cell_type": "code",
   "execution_count": 26,
   "id": "769d1b0a",
   "metadata": {},
   "outputs": [
    {
     "data": {
      "image/png": "[encoded data removed]",
      "text/plain": [
       "<Figure size 432x288 with 1 Axes>"
      ]
     },
     "metadata": {
      "needs_background": "light"
     },
     "output_type": "display_data"
    }
   ],
   "source": [
    "r=0.1\n",
    "h=1\n",
    "alp=0.8\n",
    "N=50\n",
    "N1=20\n",
    "N2=30\n",
    "q=0.4\n",
    "s=0.9\n",
    "mu=0.01\n",
    "\n",
    "np.random.seed(10)\n",
    "#x=Process(a,N,q)\n",
    "x=Process(alp, N, q,r,mu)\n",
    "#y=Data(x,s,h)\n",
    "y=Data(x,s,N1,N2,N)\n",
    "plt.plot(np.arange(0,N+1),x)\n",
    "plt.plot(np.arange(1,N+1),y)\n",
    "plt.show()"
   ]
  },
  {
   "cell_type": "markdown",
   "id": "e991b9bd",
   "metadata": {},
   "source": [
    "4- Use the general formulas given for the Kalman filter to find the one dimensional formulas for\n",
    "\n",
    "\\begin{equation}\n",
    "\\mu_{1\\mid 0}, \\sigma_{1\\mid 0}, k_1, \\mu_{1\\mid 1},\\sigma_{1\\mid 1},\n",
    "\\end{equation}\n",
    "in term of $\\alpha, q,r,s,\\mu$ and $y_1$ (write the answer as markdown)"
   ]
  },
  {
   "cell_type": "code",
   "execution_count": null,
   "id": "38068ee2",
   "metadata": {},
   "outputs": [],
   "source": []
  },
  {
   "cell_type": "markdown",
   "id": "6deefef9",
   "metadata": {},
   "source": [
    "5- Using the general formulas given for the Kalman filter, write Python program to calculate\n",
    "\\begin{equation}\n",
    "\\mu_{i\\mid i-1}, \\sigma_{i\\mid i-1}, k_i, \\mu_{i\\mid i},\\sigma_{i\\mid i},\n",
    "\\end{equation}\n",
    "for $i=1,\\cdots, N$. Be sure to\n",
    "initialize the loop over $i$. Hint: I suggest using $\\text{mu\\_old}[i]$ for $\\mu_{i\\mid i-1}$, $\\text{sigma\\_old}[i]$ for $\\sigma_{i\\mid i-1}$, $\\text{mu\\_new}[i]$ for $\\mu_{i\\mid i}$, $\\text{sigma\\_new}[i]$ for $\\sigma_{i\\mid i}$"
   ]
  },
  {
   "cell_type": "code",
   "execution_count": null,
   "id": "ebda13cb",
   "metadata": {},
   "outputs": [],
   "source": [
    "r=0.1\n",
    "h=np.array([1,0.1,0.9])\n",
    "alp=0.8\n",
    "N=50\n",
    "N1=20\n",
    "N2=30\n",
    "q=0.4\n",
    "s=0.9\n",
    "mu=0.01\n",
    "y=Data(x,s,h)\n",
    "mu_old = np.empty((N))\n",
    "sigma_old = np.empty((N))\n",
    "k = np.empty((N))\n",
    "mu_new = np.empty((N))\n",
    "sigma_new = np.empty((N))\n",
    "mu_old[0] = 0\n",
    "sigma_old[0] = q + alp**2 \n",
    "k[0] = sigma_old[0]*h/(h**2*sigma_old[0] + r)\n",
    "mu_new[0] = k[0]*y[0]\n",
    "sigma_new[0] = (1 - (h*k[0])*sigma_old[0])\n",
    "for i in range(1, N):\n",
    "    mu_old[i] = alp*mu_new[i-1]\n",
    "    sigma_old[i] = q + alp * sigma_new[i-1]*alp\n",
    "    k[i] = sigma_old[i-1]*h*(h**2*sigma_old[i]+r)**-1\n",
    "    mu_new[i]=mu_old[i]+k[i]*(y[i]-h*mu_old[i])\n",
    "    sigma_new[i]=(1-k[i]*h)*sigma_old[i]\n",
    "print(mu_old, sigma_old, k, mu_new, sigma_new)    \n",
    "    "
   ]
  },
  {
   "cell_type": "code",
   "execution_count": null,
   "id": "f1966931",
   "metadata": {},
   "outputs": [],
   "source": []
  },
  {
   "cell_type": "markdown",
   "id": "8b9f5d18",
   "metadata": {},
   "source": [
    "6- Write a Python program to plot the states $x_i$ and data $y_i$ together with the filtered and forecasted estimates on the same graph."
   ]
  },
  {
   "cell_type": "code",
   "execution_count": null,
   "id": "c868fdb6",
   "metadata": {},
   "outputs": [],
   "source": [
    "plt.plot(np.arange(0,N+1),x)\n",
    "plt.plot(np.arange(1,N+1),y)\n",
    "plt.plot(np.arange(1,N+1),mu_new)\n",
    "plt.plot(np.arange(1,N+1),sigma_new)\n",
    "plt.plot(np.arange(1,N+1),k)\n",
    "plt.plot(np.arange(1,N+1),mu_old)\n",
    "plt.plot(np.arange(1,N+1),sigma_old)\n",
    "plt.show()"
   ]
  },
  {
   "cell_type": "markdown",
   "id": "908e0240",
   "metadata": {},
   "source": [
    "**Problem 3**\n",
    "\n",
    "1- Let $\\{ x_k\\}$ be a partition of $[a,b]$ such that $a=x_1<\\cdots<x_{N-1}<x_N=b$ and $H$ be the length of the $k$-th subinterval ($H = x_k - x_{k-1}$),\n",
    "then we have \n",
    "$$\\int_a^bf(x)dx \\approx \\sum_{k=2}^N \\frac{f(x_{k-1})+f(x_k)}{2}H = Z$$\n",
    "\n",
    "\n",
    "Write a function named <b>Trap</b> that takes $a,b,N, f$ as inputs and return Z. Here, ``N = 50`` is the default value."
   ]
  },
  {
   "cell_type": "code",
   "execution_count": 28,
   "id": "cff4115d",
   "metadata": {},
   "outputs": [],
   "source": [
    "def Trap(a,b,f,N=50):\n",
    "    H=(b-a)/N\n",
    "    x=np.linspace(a,b,N+1)\n",
    "    Z=0\n",
    "    for k in range(2,N+1):\n",
    "        Z=Z+H*(f(x[k-1])+f(x[k]))/2\n",
    "    return Z"
   ]
  },
  {
   "cell_type": "markdown",
   "id": "6d455ed2",
   "metadata": {},
   "source": [
    "2- Let $m_k$  be the midpoint of the subinterval $[x_k,x_{k+1}]$ for all $k=1,\\cdots,N-1$, we have \n",
    "\n",
    "$$\\int_a^bf(x)dx \\approx \\sum_{m_k} f(m_{k})H = W$$\n",
    "\n",
    "Write a function named <b>Mid</b> that takes $a,b,N, f$ as inputs and return W. Here, ``N = 50`` is the default value."
   ]
  },
  {
   "cell_type": "code",
   "execution_count": 30,
   "id": "f1648d52",
   "metadata": {},
   "outputs": [],
   "source": [
    "def Mid(a,b,f,N=50):\n",
    "    H=(b-a)/N\n",
    "    x=np.linspace(a,b,51)\n",
    "    W=0\n",
    "    for i in range(1,51):\n",
    "        W=W+H*f(m[k])\n",
    "    return W"
   ]
  },
  {
   "cell_type": "markdown",
   "id": "dec53d7f",
   "metadata": {},
   "source": [
    "3- Using **Trap, Mid** and python inbuilt function **quad**, compute and display the integral \n",
    "\n",
    "$$A = \\int_0^{\\sqrt{\\ln(2)}}xe^{x^2}dx$$"
   ]
  },
  {
   "cell_type": "code",
   "execution_count": 59,
   "id": "066f0a44",
   "metadata": {},
   "outputs": [
    {
     "ename": "SyntaxError",
     "evalue": "unexpected EOF while parsing (1289186343.py, line 6)",
     "output_type": "error",
     "traceback": [
      "\u001b[0;36m  File \u001b[0;32m\"/tmp/ipykernel_6105/1289186343.py\"\u001b[0;36m, line \u001b[0;32m6\u001b[0m\n\u001b[0;31m    print(\"A=\",Trap(0,sqrt(np.log(2),g))\u001b[0m\n\u001b[0m                                        ^\u001b[0m\n\u001b[0;31mSyntaxError\u001b[0m\u001b[0;31m:\u001b[0m unexpected EOF while parsing\n"
     ]
    }
   ],
   "source": [
    "import numpy as np\n",
    "from scipy.integrate import quad\n",
    "\n",
    "g=lambda x: x*np.exp(x**2)\n",
    "A=quad(g,0,sqrt(np.log(2)))[0]\n",
    "print(\"A=\",Trap(0,sqrt(np.log(2),g))\n"
   ]
  },
  {
   "cell_type": "markdown",
   "id": "b4578b37",
   "metadata": {},
   "source": [
    "4- After computing the exact value of $A$, write a Python program that searches for the minimun values $N_{Trap}, N_{Mid}$ less than 10000 such that **Trap, Mid**, respectively, give a better approximation of $A$ then **odeint**.  If any the value  $ N_{Trap}, N_{Mid}$ doesn't exist your program should print the string **No $N_{Trap}$ found** or **No $N_{Mid}$ found**, respectively."
   ]
  },
  {
   "cell_type": "code",
   "execution_count": null,
   "id": "70a07efc",
   "metadata": {},
   "outputs": [],
   "source": []
  },
  {
   "cell_type": "markdown",
   "id": "87059133",
   "metadata": {},
   "source": [
    "**Problem 4**\n",
    "\n",
    "Let $\\{ t_k\\}$ be a partition of $[a,b]$ such that $a=t_0<t_2<\\cdots<t_{N}=b$ and $H$ be the constant length of the $k$-th subinterval ($H = t_k - t_{k-1}$). Let us consider initial value problem\n",
    "\n",
    "\\begin{equation}\\label{eul2}\n",
    "  \\begin{cases}\n",
    "    \\dfrac{dz}{dt} = f(z,t),      & \\quad \\text{on } [a, b]\\\\\\\\\n",
    "    z(a) = c,\n",
    "  \\end{cases}\n",
    "\\end{equation}\n",
    "where $z,f,c\\in R^M$ i.e. $z = [x_1, x_2,\\cdots, x_{M}]$, $c = [x_1(a), x_2(a),\\cdots, x_{M}(a)]$ and $f = [f_1, f_2,\\cdots, f_{M}]$. Note that \\eqref{eul2} is a the general form of system of ODEs. \n",
    "\n",
    "Let $t, z_k,Z$ defined as follows $$t=[t_0,t_1,\\cdots,t_{N-1},t_{N}],\\quad z_k = [x_1(t_k), x_2(t_k),\\cdots, x_{M}(t_k)], \\quad\n",
    "Z =\\begin{pmatrix}\n",
    "x_1(t_0)& x_2(t_0)&\\cdots& x_{M}(t_0)\\\\\n",
    "x_1(t_1)& x_2(t_1)&\\cdots& x_{M}(t_1)\\\\\n",
    "x_1(t_2)& x_2(t_2)&\\cdots& x_{M}(t_2)\\\\\n",
    "\\vdots& \\vdots&\\ddots& \\vdots\\\\\n",
    "x_1(t_{N})& x_2(t_{N})&\\cdots& x_{M}(t_{N})\n",
    "\\end{pmatrix}\n",
    "$$\n",
    "\n",
    "1. Write a python function <b> EulerOdeSys </b> that takes $f,c,t$ and return the solution $Z$ of the initial value problem \\eqref{eul2} using Euler method i.e.\n",
    "$$ z_{k+1} = z_k + Hf(z_k,t_k) $$\n"
   ]
  },
  {
   "cell_type": "code",
   "execution_count": 34,
   "id": "9f47dc22",
   "metadata": {},
   "outputs": [],
   "source": [
    "def EulerOdeSys(f,c,t):\n",
    "    N=len(t)\n",
    "    H=t[1]-t[0]\n",
    "    M=len(f)\n",
    "    Z=np.zeros((N,M))\n",
    "    Z[0,:]=c\n",
    "    \n",
    "    for j in range(M):\n",
    "        f=f[j]\n",
    "        for k in range(N-1):\n",
    "            Z[k+1,j]= Z[k,j]+H*f(Z[k,j],t[k])       \n",
    "    return Z\n"
   ]
  },
  {
   "cell_type": "markdown",
   "id": "dd1978b2",
   "metadata": {},
   "source": [
    "2. Write a python function <b> RalstonOdeSys </b> that takes $f,c,t$ and return the solution $Z$ of the initial value problem (1) using the Ralston method i.e.\n",
    "\n",
    "\\begin{equation}\n",
    "\\begin{cases}\n",
    "k_1 = f(z_k,t_k),\\\\\\\\\n",
    "k_2 = f(z_k+\\dfrac{2}{3}Hk_1, t_k + \\dfrac{2}{3}H),\\\\\\\\\n",
    "z_{k+1} = z_k + H(\\dfrac{1}{4}k_1+\\dfrac{3}{4}k_2)\n",
    "\\end{cases}\n",
    "\\end{equation}\n"
   ]
  },
  {
   "cell_type": "code",
   "execution_count": 36,
   "id": "641387c4",
   "metadata": {},
   "outputs": [],
   "source": [
    "def RK4OdeSys(f,c,t):\n",
    "    N=len(t)\n",
    "    H=t[1]-t[0]\n",
    "    M=len(f)\n",
    "    Z=np.zeros((N,M))\n",
    "    Z[0,:]=c\n",
    "    for j in range(M):\n",
    "        g=f[j]\n",
    "        for i in range(N-1):\n",
    "            k1=f(Z[k,j],t[i])\n",
    "            k2=g(Z[k,j]+H*k1*2/3,t[k]+H*2/3)\n",
    "            Z[k+1,j]= Z[k,j]+H*(1/4*k1+3/4*k2) \n",
    "    return Z"
   ]
  },
  {
   "cell_type": "markdown",
   "id": "21b27a01",
   "metadata": {},
   "source": [
    "**Problem 5**\n",
    "\n",
    "Let $\\{ x_k\\}$ be a partition of $[a,b]$ such that $a=x_0<\\cdots<x_{N-1}<x_{N}=b$ and $H$ be the constant length of the $k$-th subinterval ($H = x_k - x_{k-1}$). Let consider the second-order differential equation\n",
    "\n",
    "\\begin{equation}\n",
    "  \\begin{cases}\n",
    "   \\dfrac{d^2 y}{dx^2} + \\dfrac{d y}{dx}-6y = 0 \\qquad\\forall x\\in [a,b]\\\\\\\\\n",
    "\\dfrac{d y}{dx}(a)=0 , y(a) = 1\n",
    "  \\end{cases}\n",
    "\\end{equation}\n",
    "\n",
    "Let $\\{ y_k\\}$ be the approximate solution i.e.  $y_k\\approx g(x_k)=g_k$ where $g(x) = \\dfrac{3}{5}e^{2x}+ \\dfrac{2}{5}e^{-3x}$ is the exact solution. Let us denote $e_k = \\mid g_k - y_k\\mid$\n",
    "\n",
    "1- Using the Python in-built function **odeint**, write a python function <b> SODE </b> that takes $a,b,N$ (with $N= 100$ as default value) and return array of all $x_k$, $y_k$, $g_k$ and $e_k$.\n"
   ]
  },
  {
   "cell_type": "code",
   "execution_count": 46,
   "id": "594e6677",
   "metadata": {},
   "outputs": [],
   "source": [
    "def  SODE(a,b,N=100):\n",
    "    x = np.linspace(a, b, N+1)\n",
    "    y = odeint(SODE, U0, x)[:,0]\n",
    "    return x, y\n"
   ]
  },
  {
   "cell_type": "code",
   "execution_count": 60,
   "id": "c3418221",
   "metadata": {},
   "outputs": [
    {
     "ename": "ValueError",
     "evalue": "operands could not be broadcast together with shapes (50,) (51,) ",
     "output_type": "error",
     "traceback": [
      "\u001b[0;31m---------------------------------------------------------------------------\u001b[0m",
      "\u001b[0;31mValueError\u001b[0m                                Traceback (most recent call last)",
      "\u001b[0;32m/tmp/ipykernel_6105/2520194252.py\u001b[0m in \u001b[0;36m<module>\u001b[0;34m\u001b[0m\n\u001b[1;32m      1\u001b[0m \u001b[0mg\u001b[0m \u001b[0;34m=\u001b[0m \u001b[0;32mlambda\u001b[0m \u001b[0mx\u001b[0m\u001b[0;34m:\u001b[0m \u001b[0;36m2\u001b[0m\u001b[0;34m*\u001b[0m\u001b[0mnp\u001b[0m\u001b[0;34m.\u001b[0m\u001b[0mexp\u001b[0m\u001b[0;34m(\u001b[0m\u001b[0;36m3\u001b[0m\u001b[0;34m*\u001b[0m\u001b[0mx\u001b[0m\u001b[0;34m)\u001b[0m \u001b[0;34m-\u001b[0m \u001b[0mnp\u001b[0m\u001b[0;34m.\u001b[0m\u001b[0mexp\u001b[0m\u001b[0;34m(\u001b[0m\u001b[0;34m-\u001b[0m\u001b[0;36m2\u001b[0m\u001b[0;34m*\u001b[0m\u001b[0mx\u001b[0m\u001b[0;34m)\u001b[0m \u001b[0;34m+\u001b[0m \u001b[0;36m1\u001b[0m\u001b[0;34m\u001b[0m\u001b[0;34m\u001b[0m\u001b[0m\n\u001b[1;32m      2\u001b[0m \u001b[0;34m\u001b[0m\u001b[0m\n\u001b[0;32m----> 3\u001b[0;31m \u001b[0mplt\u001b[0m\u001b[0;34m.\u001b[0m\u001b[0mplot\u001b[0m\u001b[0;34m(\u001b[0m\u001b[0mx\u001b[0m\u001b[0;34m,\u001b[0m \u001b[0mabs\u001b[0m\u001b[0;34m(\u001b[0m\u001b[0my\u001b[0m \u001b[0;34m-\u001b[0m \u001b[0mg\u001b[0m\u001b[0;34m(\u001b[0m\u001b[0mx\u001b[0m\u001b[0;34m)\u001b[0m\u001b[0;34m)\u001b[0m\u001b[0;34m)\u001b[0m\u001b[0;34m\u001b[0m\u001b[0;34m\u001b[0m\u001b[0m\n\u001b[0m\u001b[1;32m      4\u001b[0m \u001b[0mplt\u001b[0m\u001b[0;34m.\u001b[0m\u001b[0mxlabel\u001b[0m\u001b[0;34m(\u001b[0m\u001b[0;34m\"x\"\u001b[0m\u001b[0;34m)\u001b[0m\u001b[0;34m\u001b[0m\u001b[0;34m\u001b[0m\u001b[0m\n\u001b[1;32m      5\u001b[0m \u001b[0mplt\u001b[0m\u001b[0;34m.\u001b[0m\u001b[0mylabel\u001b[0m\u001b[0;34m(\u001b[0m\u001b[0;34m\"|y - g(x)|\"\u001b[0m\u001b[0;34m)\u001b[0m\u001b[0;34m\u001b[0m\u001b[0;34m\u001b[0m\u001b[0m\n",
      "\u001b[0;31mValueError\u001b[0m: operands could not be broadcast together with shapes (50,) (51,) "
     ]
    }
   ],
   "source": []
  },
  {
   "cell_type": "markdown",
   "id": "bfc1fdbf",
   "metadata": {},
   "source": [
    "2- Using **odeint**, solve the second-order differential equation for $a = 0, b = 2$ and use subplot to plot side by side\n",
    "- $y_k$ and $g_k$ vs $x_k$\n",
    "- $e_k$ vs $x_k$"
   ]
  },
  {
   "cell_type": "code",
   "execution_count": 62,
   "id": "38c2dc59",
   "metadata": {},
   "outputs": [
    {
     "ename": "SyntaxError",
     "evalue": "invalid syntax (1908838110.py, line 17)",
     "output_type": "error",
     "traceback": [
      "\u001b[0;36m  File \u001b[0;32m\"/tmp/ipykernel_6105/1908838110.py\"\u001b[0;36m, line \u001b[0;32m17\u001b[0m\n\u001b[0;31m    plt.show()\u001b[0m\n\u001b[0m    ^\u001b[0m\n\u001b[0;31mSyntaxError\u001b[0m\u001b[0;31m:\u001b[0m invalid syntax\n"
     ]
    }
   ],
   "source": [
    "def model(U, x):\n",
    "    y, z = U \n",
    "    dy_dx = z\n",
    "    dz_dx = 6*y-z\n",
    "    return np.array([dy_dx, dz_dx])\n",
    "\n",
    "U0 = [1,0]\n",
    "a=0\n",
    "b=2\n",
    "\n",
    "g = lambda x: 2*np.exp(3*x) - np.exp(-2*x) + 1\n",
    "\n",
    "plt.plot(x, abs(y - g(x)))\n",
    "plt.xlabel(\"x\")\n",
    "plt.ylabel(\"|y - g(x)|\")\n",
    "plt.plot(x,abs(y - g(x))\n",
    "plt.show()\n"
   ]
  },
  {
   "cell_type": "markdown",
   "id": "a8069746",
   "metadata": {},
   "source": [
    "3- Using <b> RalstonOdeSys </b>, solve the second-order differential equation for $a = 0, b = 2$ and use subplot to plot side by side\n",
    "- $y_k$ and $g_k$ vs $x_k$\n",
    "- $e_k$ vs $x_k$"
   ]
  },
  {
   "cell_type": "code",
   "execution_count": 49,
   "id": "39175089",
   "metadata": {},
   "outputs": [
    {
     "ename": "TypeError",
     "evalue": "RalstonOdesys() takes 2 positional arguments but 4 were given",
     "output_type": "error",
     "traceback": [
      "\u001b[0;31m---------------------------------------------------------------------------\u001b[0m",
      "\u001b[0;31mTypeError\u001b[0m                                 Traceback (most recent call last)",
      "\u001b[0;32m/tmp/ipykernel_6105/2940221459.py\u001b[0m in \u001b[0;36m<module>\u001b[0;34m\u001b[0m\n\u001b[1;32m      9\u001b[0m \u001b[0ma\u001b[0m\u001b[0;34m,\u001b[0m \u001b[0mb\u001b[0m \u001b[0;34m=\u001b[0m \u001b[0;36m0\u001b[0m\u001b[0;34m,\u001b[0m \u001b[0;36m2\u001b[0m\u001b[0;34m\u001b[0m\u001b[0;34m\u001b[0m\u001b[0m\n\u001b[1;32m     10\u001b[0m \u001b[0;34m\u001b[0m\u001b[0m\n\u001b[0;32m---> 11\u001b[0;31m \u001b[0mx\u001b[0m\u001b[0;34m,\u001b[0m \u001b[0my\u001b[0m \u001b[0;34m=\u001b[0m \u001b[0mRalstonOdesys\u001b[0m\u001b[0;34m(\u001b[0m\u001b[0ma\u001b[0m\u001b[0;34m,\u001b[0m \u001b[0mb\u001b[0m\u001b[0;34m,\u001b[0m \u001b[0mU0\u001b[0m\u001b[0;34m,\u001b[0m \u001b[0mSODE\u001b[0m\u001b[0;34m)\u001b[0m\u001b[0;34m\u001b[0m\u001b[0;34m\u001b[0m\u001b[0m\n\u001b[0m\u001b[1;32m     12\u001b[0m \u001b[0;34m\u001b[0m\u001b[0m\n\u001b[1;32m     13\u001b[0m \u001b[0mplt\u001b[0m\u001b[0;34m.\u001b[0m\u001b[0mplot\u001b[0m\u001b[0;34m(\u001b[0m\u001b[0mx\u001b[0m\u001b[0;34m,\u001b[0m \u001b[0my\u001b[0m\u001b[0;34m)\u001b[0m\u001b[0;34m\u001b[0m\u001b[0;34m\u001b[0m\u001b[0m\n",
      "\u001b[0;31mTypeError\u001b[0m: RalstonOdesys() takes 2 positional arguments but 4 were given"
     ]
    }
   ],
   "source": [
    "\n",
    "def RalstonOdesys(U, x):\n",
    "    y, z = U\n",
    "    dy_dx = z\n",
    "    dz_dx = 6*y-z\n",
    "    return np.array([dy_dx, dz_dx])\n",
    "\n",
    "U0 = [1, 0]\n",
    "\n",
    "a, b = 0, 2\n",
    "\n",
    "x, y = RalstonOdesys(a, b, U0, SODE)\n",
    "\n",
    "plt.plot(x, y)\n",
    "plt.xlabel(\"x\")\n",
    "plt.ylabel(\"y\")\n",
    "plt.show()"
   ]
  },
  {
   "cell_type": "markdown",
   "id": "af61af39",
   "metadata": {},
   "source": [
    "4- Using <b> EulerOdeSys </b>, solve the second-order differential equation for $a = 0, b = 2$ and use subplot to plot side by side\n",
    "- $y_k$ and $g_k$ vs $x_k$\n",
    "- $e_k$ vs $x_k$"
   ]
  },
  {
   "cell_type": "code",
   "execution_count": null,
   "id": "6b842f4a",
   "metadata": {},
   "outputs": [],
   "source": [
    "def EulerOdesys():\n",
    "    "
   ]
  },
  {
   "cell_type": "markdown",
   "id": "5ac35f5c",
   "metadata": {},
   "source": [
    "5- The L2 error, $L2Er$ between the exact and the approximate solution given by\n",
    "\n",
    "$$L2Er = \\sum_0^N H(y_k - g_k)^2$$\n",
    "\n",
    "\n",
    "Write a function called **L2_error** that takes $a,b,H$ and return the L2 error $g_k$ and the approximate solution $y_k$ obtained using **SODE**, **RalstonOdeSys** and **EulerOdeSys**."
   ]
  },
  {
   "cell_type": "code",
   "execution_count": 57,
   "id": "3fe20332",
   "metadata": {},
   "outputs": [],
   "source": [
    "def L2_error(a, b, H):\n",
    "    x, y = SODE(a, b, U0, model, H)\n",
    "    L2Er = sum(H * (y - g(x))**2)\n",
    "    \n",
    "    return L2Er"
   ]
  },
  {
   "cell_type": "markdown",
   "id": "f8773444",
   "metadata": {},
   "source": [
    "6- Let us denote $L2Er_j$ the output of **L2_error** for a given argument $a,b,H_j$. Using **SODE**, **RalstonOdeSys** and **EulerOdeSys**, compute the array of $L2Er_j$ for $a = 0, b=2$ and $H_j$ in an array $L =[ 10^{-1}, 10^{-2}, 10^{-3}, 10^{-4}]$."
   ]
  },
  {
   "cell_type": "code",
   "execution_count": 58,
   "id": "acc3a81d",
   "metadata": {},
   "outputs": [
    {
     "ename": "TypeError",
     "evalue": "SODE() takes from 2 to 3 positional arguments but 5 were given",
     "output_type": "error",
     "traceback": [
      "\u001b[0;31m---------------------------------------------------------------------------\u001b[0m",
      "\u001b[0;31mTypeError\u001b[0m                                 Traceback (most recent call last)",
      "\u001b[0;32m/tmp/ipykernel_6105/2534752408.py\u001b[0m in \u001b[0;36m<module>\u001b[0;34m\u001b[0m\n\u001b[1;32m      1\u001b[0m \u001b[0ma\u001b[0m\u001b[0;34m,\u001b[0m \u001b[0mb\u001b[0m \u001b[0;34m=\u001b[0m \u001b[0;36m0\u001b[0m\u001b[0;34m,\u001b[0m \u001b[0;36m2\u001b[0m\u001b[0;34m\u001b[0m\u001b[0;34m\u001b[0m\u001b[0m\n\u001b[1;32m      2\u001b[0m \u001b[0mHj\u001b[0m \u001b[0;34m=\u001b[0m \u001b[0mnp\u001b[0m\u001b[0;34m.\u001b[0m\u001b[0marray\u001b[0m\u001b[0;34m(\u001b[0m\u001b[0;34m[\u001b[0m\u001b[0;36m10\u001b[0m\u001b[0;34m**\u001b[0m\u001b[0;34m-\u001b[0m\u001b[0mi\u001b[0m \u001b[0;32mfor\u001b[0m \u001b[0mi\u001b[0m \u001b[0;32min\u001b[0m \u001b[0mrange\u001b[0m\u001b[0;34m(\u001b[0m\u001b[0;36m1\u001b[0m\u001b[0;34m,\u001b[0m\u001b[0;36m5\u001b[0m\u001b[0;34m)\u001b[0m\u001b[0;34m]\u001b[0m\u001b[0;34m)\u001b[0m\u001b[0;34m\u001b[0m\u001b[0;34m\u001b[0m\u001b[0m\n\u001b[0;32m----> 3\u001b[0;31m \u001b[0mL2Erj\u001b[0m \u001b[0;34m=\u001b[0m \u001b[0mnp\u001b[0m\u001b[0;34m.\u001b[0m\u001b[0marray\u001b[0m\u001b[0;34m(\u001b[0m\u001b[0;34m[\u001b[0m\u001b[0mL2_error\u001b[0m\u001b[0;34m(\u001b[0m\u001b[0ma\u001b[0m\u001b[0;34m,\u001b[0m \u001b[0mb\u001b[0m\u001b[0;34m,\u001b[0m \u001b[0mH\u001b[0m\u001b[0;34m)\u001b[0m \u001b[0;32mfor\u001b[0m \u001b[0mH\u001b[0m \u001b[0;32min\u001b[0m \u001b[0mHj\u001b[0m\u001b[0;34m]\u001b[0m\u001b[0;34m)\u001b[0m\u001b[0;34m\u001b[0m\u001b[0;34m\u001b[0m\u001b[0m\n\u001b[0m",
      "\u001b[0;32m/tmp/ipykernel_6105/2534752408.py\u001b[0m in \u001b[0;36m<listcomp>\u001b[0;34m(.0)\u001b[0m\n\u001b[1;32m      1\u001b[0m \u001b[0ma\u001b[0m\u001b[0;34m,\u001b[0m \u001b[0mb\u001b[0m \u001b[0;34m=\u001b[0m \u001b[0;36m0\u001b[0m\u001b[0;34m,\u001b[0m \u001b[0;36m2\u001b[0m\u001b[0;34m\u001b[0m\u001b[0;34m\u001b[0m\u001b[0m\n\u001b[1;32m      2\u001b[0m \u001b[0mHj\u001b[0m \u001b[0;34m=\u001b[0m \u001b[0mnp\u001b[0m\u001b[0;34m.\u001b[0m\u001b[0marray\u001b[0m\u001b[0;34m(\u001b[0m\u001b[0;34m[\u001b[0m\u001b[0;36m10\u001b[0m\u001b[0;34m**\u001b[0m\u001b[0;34m-\u001b[0m\u001b[0mi\u001b[0m \u001b[0;32mfor\u001b[0m \u001b[0mi\u001b[0m \u001b[0;32min\u001b[0m \u001b[0mrange\u001b[0m\u001b[0;34m(\u001b[0m\u001b[0;36m1\u001b[0m\u001b[0;34m,\u001b[0m\u001b[0;36m5\u001b[0m\u001b[0;34m)\u001b[0m\u001b[0;34m]\u001b[0m\u001b[0;34m)\u001b[0m\u001b[0;34m\u001b[0m\u001b[0;34m\u001b[0m\u001b[0m\n\u001b[0;32m----> 3\u001b[0;31m \u001b[0mL2Erj\u001b[0m \u001b[0;34m=\u001b[0m \u001b[0mnp\u001b[0m\u001b[0;34m.\u001b[0m\u001b[0marray\u001b[0m\u001b[0;34m(\u001b[0m\u001b[0;34m[\u001b[0m\u001b[0mL2_error\u001b[0m\u001b[0;34m(\u001b[0m\u001b[0ma\u001b[0m\u001b[0;34m,\u001b[0m \u001b[0mb\u001b[0m\u001b[0;34m,\u001b[0m \u001b[0mH\u001b[0m\u001b[0;34m)\u001b[0m \u001b[0;32mfor\u001b[0m \u001b[0mH\u001b[0m \u001b[0;32min\u001b[0m \u001b[0mHj\u001b[0m\u001b[0;34m]\u001b[0m\u001b[0;34m)\u001b[0m\u001b[0;34m\u001b[0m\u001b[0;34m\u001b[0m\u001b[0m\n\u001b[0m",
      "\u001b[0;32m/tmp/ipykernel_6105/2813223079.py\u001b[0m in \u001b[0;36mL2_error\u001b[0;34m(a, b, H)\u001b[0m\n\u001b[1;32m      1\u001b[0m \u001b[0;32mdef\u001b[0m \u001b[0mL2_error\u001b[0m\u001b[0;34m(\u001b[0m\u001b[0ma\u001b[0m\u001b[0;34m,\u001b[0m \u001b[0mb\u001b[0m\u001b[0;34m,\u001b[0m \u001b[0mH\u001b[0m\u001b[0;34m)\u001b[0m\u001b[0;34m:\u001b[0m\u001b[0;34m\u001b[0m\u001b[0;34m\u001b[0m\u001b[0m\n\u001b[0;32m----> 2\u001b[0;31m     \u001b[0mx\u001b[0m\u001b[0;34m,\u001b[0m \u001b[0my\u001b[0m \u001b[0;34m=\u001b[0m \u001b[0mSODE\u001b[0m\u001b[0;34m(\u001b[0m\u001b[0ma\u001b[0m\u001b[0;34m,\u001b[0m \u001b[0mb\u001b[0m\u001b[0;34m,\u001b[0m \u001b[0mU0\u001b[0m\u001b[0;34m,\u001b[0m \u001b[0mmodel\u001b[0m\u001b[0;34m,\u001b[0m \u001b[0mH\u001b[0m\u001b[0;34m)\u001b[0m\u001b[0;34m\u001b[0m\u001b[0;34m\u001b[0m\u001b[0m\n\u001b[0m\u001b[1;32m      3\u001b[0m     \u001b[0mL2Er\u001b[0m \u001b[0;34m=\u001b[0m \u001b[0msum\u001b[0m\u001b[0;34m(\u001b[0m\u001b[0mH\u001b[0m \u001b[0;34m*\u001b[0m \u001b[0;34m(\u001b[0m\u001b[0my\u001b[0m \u001b[0;34m-\u001b[0m \u001b[0mg\u001b[0m\u001b[0;34m(\u001b[0m\u001b[0mx\u001b[0m\u001b[0;34m)\u001b[0m\u001b[0;34m)\u001b[0m\u001b[0;34m**\u001b[0m\u001b[0;36m2\u001b[0m\u001b[0;34m)\u001b[0m\u001b[0;34m\u001b[0m\u001b[0;34m\u001b[0m\u001b[0m\n\u001b[1;32m      4\u001b[0m \u001b[0;34m\u001b[0m\u001b[0m\n\u001b[1;32m      5\u001b[0m     \u001b[0;32mreturn\u001b[0m \u001b[0mL2Er\u001b[0m\u001b[0;34m\u001b[0m\u001b[0;34m\u001b[0m\u001b[0m\n",
      "\u001b[0;31mTypeError\u001b[0m: SODE() takes from 2 to 3 positional arguments but 5 were given"
     ]
    }
   ],
   "source": [
    "a, b = 0, 2\n",
    "Hj = np.array([10**-i for i in range(1,5)])\n",
    "L2Erj = np.array([L2_error(a, b, H) for H in Hj])"
   ]
  },
  {
   "cell_type": "markdown",
   "id": "64b40f0d",
   "metadata": {},
   "source": [
    "7- For each method **SODE**, **RalstonOdeSys** and **EulerOdeSys**, plot in the same graph $log(L2Er_j)$ vs $log(H_j)$."
   ]
  },
  {
   "cell_type": "code",
   "execution_count": 63,
   "id": "8ac7eb00",
   "metadata": {},
   "outputs": [
    {
     "ename": "SyntaxError",
     "evalue": "invalid syntax (1107189094.py, line 2)",
     "output_type": "error",
     "traceback": [
      "\u001b[0;36m  File \u001b[0;32m\"/tmp/ipykernel_6105/1107189094.py\"\u001b[0;36m, line \u001b[0;32m2\u001b[0m\n\u001b[0;31m    plt.xlabel(\"H\")\u001b[0m\n\u001b[0m    ^\u001b[0m\n\u001b[0;31mSyntaxError\u001b[0m\u001b[0;31m:\u001b[0m invalid syntax\n"
     ]
    }
   ],
   "source": [
    "plt.plot(np.log(Hj), np.log(L2Erj)\n",
    "plt.xlabel(\"H\")\n",
    "plt.ylabel(\"L2 Error\")\n",
    "plt.show()"
   ]
  },
  {
   "cell_type": "markdown",
   "id": "7732222c",
   "metadata": {},
   "source": [
    "By assuming that $log(H_j)$ is the explanatory variable of $log(L2Er_j)$, complete the simple linear regression in the case of  **RalstonOdeSys**, **EulerOdeSys** and display the regression coeficient.\n",
    "\n",
    "Note: Use the whole data to train your linear model."
   ]
  },
  {
   "cell_type": "code",
   "execution_count": null,
   "id": "37972d31",
   "metadata": {},
   "outputs": [],
   "source": []
  },
  {
   "cell_type": "markdown",
   "id": "330ea9b3",
   "metadata": {},
   "source": [
    "**Problem 6**\n",
    "\n",
    "1-The cost of admission to the world cup 2022 game is\n",
    "- 320 USD for 3 children, 1 female  and 1 male \n",
    "- 600 USD  for 4 females and 2 males \n",
    "- 600 USD  for 5 children, 2 females and 2 males \n",
    "\n",
    "Transform the problem into a system of equation (as markdown in the cell below)"
   ]
  },
  {
   "cell_type": "markdown",
   "id": "62249e0c",
   "metadata": {},
   "source": [
    "\\#2pt\n",
    "\\begin{equation}\n",
    "\\begin{cases}\n",
    "    3c + f+m = 320 \\\\\n",
    "    4f + 2m = 600 \\\\\n",
    "    5c + 2f + 2m = 600,\n",
    "\\end{cases}\n",
    "\\end{equation}\n",
    "where $c$ is for children, $f$ for female and $m$ for male."
   ]
  },
  {
   "cell_type": "markdown",
   "id": "2ad69a8a",
   "metadata": {},
   "source": [
    "2- Write a Python code to compute and display how much is the admission for each child, female and male?"
   ]
  },
  {
   "cell_type": "code",
   "execution_count": 52,
   "id": "298099ed",
   "metadata": {},
   "outputs": [
    {
     "name": "stdout",
     "output_type": "stream",
     "text": [
      "z = [[ 40.]\n",
      " [220.]\n",
      " [-20.]]\n"
     ]
    }
   ],
   "source": [
    "A = np.array([[3,1,1], [4,2,0], [5,2,2]])\n",
    "b = np.array([[320], [600], [600]])\n",
    "z = np.linalg.solve(A,b)\n",
    "\n",
    "print(\"z =\", z)"
   ]
  },
  {
   "cell_type": "markdown",
   "id": "63d1154f",
   "metadata": {},
   "source": [
    "3- Using the Python in-built function fsolve with unitial guess $x=1, y=1$, write a Python code to solve the following system\n",
    "\n",
    "\\begin{equation}\n",
    "\\begin{cases}\n",
    "    e^{x^2} + x = sin(y)\\\\\n",
    "    2e^x + cos(y) = 3\n",
    "\\end{cases}\n",
    "\\end{equation}\n"
   ]
  },
  {
   "cell_type": "code",
   "execution_count": 53,
   "id": "c4167f17",
   "metadata": {},
   "outputs": [
    {
     "name": "stdout",
     "output_type": "stream",
     "text": [
      "z = [-0.37939153 -0.88738139]\n"
     ]
    }
   ],
   "source": [
    "def myfunction(z):\n",
    "    x, y = z\n",
    "    \n",
    "    F = np.empty((2))\n",
    "    F[0] = np.exp(x**2)+x + np.sin(y)\n",
    "    F[1] = 2*np.exp(x) + np.cos(y) - 2\n",
    "    \n",
    "    return F\n",
    "\n",
    "z0 = [1,1]\n",
    "z = fsolve(myfunction, z0)\n",
    "\n",
    "print(\"z =\", z)"
   ]
  },
  {
   "cell_type": "code",
   "execution_count": null,
   "id": "be089cb9",
   "metadata": {},
   "outputs": [],
   "source": []
  }
 ],
 "metadata": {
  "kernelspec": {
   "display_name": "Python 3",
   "language": "python",
   "name": "python3"
  },
  "language_info": {
   "codemirror_mode": {
    "name": "ipython",
    "version": 3
   },
   "file_extension": ".py",
   "mimetype": "text/x-python",
   "name": "python",
   "nbconvert_exporter": "python",
   "pygments_lexer": "ipython3",
   "version": "3.9.2"
  }
 },
 "nbformat": 4,
 "nbformat_minor": 5
}
